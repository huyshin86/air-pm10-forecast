{
 "cells": [
  {
   "cell_type": "markdown",
   "id": "556ee6ba",
   "metadata": {},
   "source": [
    "## PREPROCESS"
   ]
  },
  {
   "cell_type": "code",
   "execution_count": 1,
   "id": "9703a786",
   "metadata": {},
   "outputs": [
    {
     "name": "stderr",
     "output_type": "stream",
     "text": [
      "e:\\third year\\Data mining\\hackathon\\air-pm10-forecast\\src\\aq_weather_preprocess.py:80: FutureWarning: 'H' is deprecated and will be removed in a future version, please use 'h' instead.\n",
      "  full = wide.reindex(pd.date_range(wide.index.min(), wide.index.max(), freq=\"1H\", tz=\"UTC\"))\n"
     ]
    },
    {
     "ename": "TypeError",
     "evalue": "preprocess_all() takes 2 positional arguments but 3 positional arguments (and 1 keyword-only argument) were given",
     "output_type": "error",
     "traceback": [
      "\u001b[31m---------------------------------------------------------------------------\u001b[39m",
      "\u001b[31mTypeError\u001b[39m                                 Traceback (most recent call last)",
      "\u001b[36mCell\u001b[39m\u001b[36m \u001b[39m\u001b[32mIn[1]\u001b[39m\u001b[32m, line 14\u001b[39m\n\u001b[32m     11\u001b[39m pm10_df   = load_pm10_history(AQ_DIR)\n\u001b[32m     12\u001b[39m weather_df = load_weather_raw(WX_DIR)  \n\u001b[32m---> \u001b[39m\u001b[32m14\u001b[39m cases = \u001b[43mpreprocess_all\u001b[49m\u001b[43m(\u001b[49m\n\u001b[32m     15\u001b[39m \u001b[43m    \u001b[49m\u001b[43mPath\u001b[49m\u001b[43m(\u001b[49m\u001b[43mAQ_DIR\u001b[49m\u001b[43m)\u001b[49m\u001b[43m,\u001b[49m\n\u001b[32m     16\u001b[39m \u001b[43m    \u001b[49m\u001b[43mPath\u001b[49m\u001b[43m(\u001b[49m\u001b[43mWX_DIR\u001b[49m\u001b[43m)\u001b[49m\u001b[43m,\u001b[49m\n\u001b[32m     17\u001b[39m \u001b[43m    \u001b[49m\u001b[43mPath\u001b[49m\u001b[43m(\u001b[49m\u001b[43mBASE_PROCESSED\u001b[49m\u001b[43m \u001b[49m\u001b[43m/\u001b[49m\u001b[43m \u001b[49m\u001b[33;43m\"\u001b[39;49m\u001b[33;43mdata.json\u001b[39;49m\u001b[33;43m\"\u001b[39;49m\u001b[43m)\u001b[49m\u001b[43m,\u001b[49m\n\u001b[32m     18\u001b[39m \u001b[43m    \u001b[49m\u001b[43mcase_scope\u001b[49m\u001b[43m=\u001b[49m\u001b[33;43m\"\u001b[39;49m\u001b[33;43mday\u001b[39;49m\u001b[33;43m\"\u001b[39;49m\n\u001b[32m     19\u001b[39m \u001b[43m)\u001b[49m\n",
      "\u001b[31mTypeError\u001b[39m: preprocess_all() takes 2 positional arguments but 3 positional arguments (and 1 keyword-only argument) were given"
     ]
    }
   ],
   "source": [
    "from pathlib import Path\n",
    "from src.aq_weather_preprocess import load_pm10_history, load_station_meta, load_weather_raw, preprocess_all, save_cases_to_json\n",
    "\n",
    "BASE = Path(\"../air-pm10-forecast/data/raw\")  \n",
    "BASE_PROCESSED = Path(\"../air-pm10-forecast/data/processed\")\n",
    "AQ_DIR = BASE / \"AirQuality_Krakow\"\n",
    "WX_DIR = BASE / \"Weather_Krakow\"\n",
    "\n",
    "# --- 2. Load raw datasets ----------------------------------------------------\n",
    "meta_df   = load_station_meta(AQ_DIR / \"Stations.xlsx\")\n",
    "pm10_df   = load_pm10_history(AQ_DIR)\n",
    "weather_df = load_weather_raw(WX_DIR)  \n",
    "\n",
    "cases = preprocess_all(\n",
    "    Path(AQ_DIR),\n",
    "    Path(WX_DIR),\n",
    "    Path(BASE_PROCESSED / \"data.json\"),\n",
    "    case_scope=\"day\"\n",
    ")"
   ]
  },
  {
   "cell_type": "markdown",
   "id": "b36eca4f",
   "metadata": {},
   "source": [
    "## EDA"
   ]
  },
  {
   "cell_type": "code",
   "execution_count": null,
   "id": "b95b475d",
   "metadata": {},
   "outputs": [
    {
     "data": {
      "text/plain": [
       "(          case_id  station_code                 timestamp     pm10  longitude  \\\n",
       " 0       case_0000  MpKrakAlKras 2019-01-01 01:00:00+00:00  88.2185  19.926189   \n",
       " 1       case_0000  MpKrakAlKras 2019-01-01 02:00:00+00:00  95.2209  19.926189   \n",
       " 2       case_0000  MpKrakAlKras 2019-01-01 03:00:00+00:00  85.3689  19.926189   \n",
       " 3       case_0000  MpKrakAlKras 2019-01-01 04:00:00+00:00  70.8575  19.926189   \n",
       " 4       case_0000  MpKrakAlKras 2019-01-01 05:00:00+00:00  50.1935  19.926189   \n",
       " ...           ...           ...                       ...      ...        ...   \n",
       " 293305  case_0006  MpKrakZloRog 2023-12-31 20:00:00+00:00  32.3285  19.895358   \n",
       " 293306  case_0006  MpKrakZloRog 2023-12-31 21:00:00+00:00  38.2589  19.895358   \n",
       " 293307  case_0006  MpKrakZloRog 2023-12-31 22:00:00+00:00  41.0132  19.895358   \n",
       " 293308  case_0006  MpKrakZloRog 2023-12-31 23:00:00+00:00  47.8850  19.895358   \n",
       " 293309  case_0006  MpKrakZloRog 2024-01-01 00:00:00+00:00  36.2436  19.895358   \n",
       " \n",
       "          latitude  \n",
       " 0       50.057678  \n",
       " 1       50.057678  \n",
       " 2       50.057678  \n",
       " 3       50.057678  \n",
       " 4       50.057678  \n",
       " ...           ...  \n",
       " 293305  50.081197  \n",
       " 293306  50.081197  \n",
       " 293307  50.081197  \n",
       " 293308  50.081197  \n",
       " 293309  50.081197  \n",
       " \n",
       " [293310 rows x 6 columns],\n",
       "           case_id                      date  temp_c  wind_dir_deg  \\\n",
       " 0       case_0000 2019-01-01 00:00:00+00:00     0.1         240.0   \n",
       " 174054  case_0002 2019-01-01 00:00:00+00:00     0.1         240.0   \n",
       " 435135  case_0005 2019-01-01 00:00:00+00:00     0.1         240.0   \n",
       " 261081  case_0003 2019-01-01 00:00:00+00:00     0.1         240.0   \n",
       " 348108  case_0004 2019-01-01 00:00:00+00:00     0.1         240.0   \n",
       " ...           ...                       ...     ...           ...   \n",
       " 261080  case_0002 2023-12-31 23:30:00+00:00     2.0         999.0   \n",
       " 522161  case_0005 2023-12-31 23:30:00+00:00     2.0         999.0   \n",
       " 87026   case_0000 2023-12-31 23:30:00+00:00     2.0         999.0   \n",
       " 435134  case_0004 2023-12-31 23:30:00+00:00     2.0         999.0   \n",
       " 609188  case_0006 2023-12-31 23:30:00+00:00     2.0         999.0   \n",
       " \n",
       "         wind_speed_ms  \n",
       " 0                 3.0  \n",
       " 174054            3.0  \n",
       " 435135            3.0  \n",
       " 261081            3.0  \n",
       " 348108            3.0  \n",
       " ...               ...  \n",
       " 261080            0.5  \n",
       " 522161            0.5  \n",
       " 87026             0.5  \n",
       " 435134            0.5  \n",
       " 609188            0.5  \n",
       " \n",
       " [609189 rows x 5 columns])"
      ]
     },
     "execution_count": 11,
     "metadata": {},
     "output_type": "execute_result"
    }
   ],
   "source": [
    "from aq_weather_preprocess import flatten_cases_to_df\n",
    "\n",
    "df_flat = flatten_cases_to_df( BASE_PROCESSED / \"data.json\")\n",
    "df_flat"
   ]
  }
 ],
 "metadata": {
  "kernelspec": {
   "display_name": "Python 3",
   "language": "python",
   "name": "python3"
  },
  "language_info": {
   "codemirror_mode": {
    "name": "ipython",
    "version": 3
   },
   "file_extension": ".py",
   "mimetype": "text/x-python",
   "name": "python",
   "nbconvert_exporter": "python",
   "pygments_lexer": "ipython3",
   "version": "3.13.5"
  }
 },
 "nbformat": 4,
 "nbformat_minor": 5
}
